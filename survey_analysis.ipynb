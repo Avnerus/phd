{
 "cells": [
  {
   "cell_type": "code",
   "execution_count": null,
   "metadata": {},
   "outputs": [],
   "source": [
    " - Robot statements: Look at original\n",
    " - Recoding \n",
    " - Do not delete anything\n",
    " - Annova analysis? Co-variant\n",
    "\n",
    " Palestiniasn like robots more, Israelis are maybe more educated and have a more dystopian view\n",
    "    \n",
    "- language analysis? relate text answers to demographics\n",
    "\n",
    "- first article quantititaive with examples?\n",
    "    \n",
    "**robot identity , need to put 0 in the blanks***\n",
    "\n",
    "cross the repeated measure\n",
    "\n",
    "can use the slider as a covariate\n",
    "        \n",
    "how did the answer change?\n"
   ]
  },
  {
   "cell_type": "code",
   "execution_count": 49,
   "metadata": {},
   "outputs": [],
   "source": [
    "import pandas as pd\n",
    "import os\n",
    "import datetime\n"
   ]
  },
  {
   "cell_type": "code",
   "execution_count": 26,
   "metadata": {},
   "outputs": [],
   "source": [
    "text_data = pd.read_csv('/home/avnerus/Nextcloud/PhD/Survey/Results/Telerobot user survey_April 26, 2021_17.16.csv')\n",
    "num_data  = pd.read_csv('/home/avnerus/Nextcloud/PhD/Survey/Results/NUMERIC_Telerobot user survey_April 27, 2021_15.18.csv')"
   ]
  },
  {
   "cell_type": "code",
   "execution_count": 27,
   "metadata": {},
   "outputs": [],
   "source": [
    "text_data = text_data.drop([0, 1])\n",
    "num_data = num_data.drop([0, 1])"
   ]
  },
  {
   "cell_type": "code",
   "execution_count": 66,
   "metadata": {},
   "outputs": [
    {
     "data": {
      "text/plain": [
       "2      42\n",
       "3      34\n",
       "4      18\n",
       "5      32\n",
       "6      24\n",
       "       ..\n",
       "678    52\n",
       "679    46\n",
       "680    50\n",
       "681    38\n",
       "682    26\n",
       "Name: AGE, Length: 556, dtype: int64"
      ]
     },
     "execution_count": 66,
     "metadata": {},
     "output_type": "execute_result"
    }
   ],
   "source": [
    "now = datetime.datetime.now()\n",
    "num_data_finished = num_data[num_data['Finished'] == '1'].copy()\n",
    "num_data_finished['AGE'] = num_data_finished['Q_DEMOGRAPHICS_1'].apply(lambda x: now.year - (2010-int(x)))\n",
    "num_data_finished['AGE']\n"
   ]
  }
 ],
 "metadata": {
  "kernelspec": {
   "display_name": "Python 3",
   "language": "python",
   "name": "python3"
  },
  "language_info": {
   "codemirror_mode": {
    "name": "ipython",
    "version": 3
   },
   "file_extension": ".py",
   "mimetype": "text/x-python",
   "name": "python",
   "nbconvert_exporter": "python",
   "pygments_lexer": "ipython3",
   "version": "3.7.7"
  }
 },
 "nbformat": 4,
 "nbformat_minor": 2
}
